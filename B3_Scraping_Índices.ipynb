{
 "cells": [
  {
   "cell_type": "code",
   "execution_count": 1,
   "id": "e288e6ac",
   "metadata": {},
   "outputs": [],
   "source": [
    "from time import sleep\n",
    "import pandas as pd\n",
    "from selenium import webdriver\n",
    "from selenium.webdriver.support.select import Select\n",
    "import plotly.express as px"
   ]
  },
  {
   "cell_type": "code",
   "execution_count": 11,
   "id": "369a31f0",
   "metadata": {},
   "outputs": [],
   "source": [
    "wd = webdriver.Safari()"
   ]
  },
  {
   "cell_type": "code",
   "execution_count": 3,
   "id": "e4d78837",
   "metadata": {},
   "outputs": [
    {
     "name": "stdout",
     "output_type": "stream",
     "text": [
      "/Users/rodriguesra/Dropbox/My Mac (Rafael’s MacBook Pro)/Downloads\n"
     ]
    }
   ],
   "source": [
    "cd ~/Downloads/"
   ]
  },
  {
   "cell_type": "code",
   "execution_count": 4,
   "id": "adb7bd7a",
   "metadata": {},
   "outputs": [],
   "source": [
    "def busca_carteira_teorica(indice, espera=3):\n",
    "    url = f'https://sistemaswebb3-listados.b3.com.br/indexPage/day/{indice.upper()}?language=pt-br'\n",
    "    wd.get(url)\n",
    "    sleep(espera)\n",
    "    \n",
    "    dropdown_menu = wd.find_element_by_id('segment')\n",
    "    Select(dropdown_menu).select_by_visible_text('Setor de Atuação')\n",
    "    sleep(espera)\n",
    "\n",
    "    wd.find_element_by_link_text('Download').click()\n",
    "    sleep(espera)\n",
    "    \n",
    "    arquivos = !ls -1t *.csv\n",
    "    columns = ['Setor', 'Código', 'Ação', 'Tipo', 'Qtde. Teórica', 'Part. (%)', 'Part. (%)Acum.', 'Helper_col']\n",
    "    \n",
    "    df = pd.read_csv(arquivos[0], sep=';', encoding='latin-1', thousands='.', decimal=',', skiprows=2, \n",
    "                     skipfooter=2, engine='python')\n",
    "    df.columns = columns\n",
    "    df.drop(columns='Helper_col', axis=1, inplace=True)\n",
    "    return df"
   ]
  },
  {
   "cell_type": "code",
   "execution_count": 15,
   "id": "5380c4f2",
   "metadata": {},
   "outputs": [],
   "source": [
    "df = busca_carteira_teorica('smll')"
   ]
  },
  {
   "cell_type": "code",
   "execution_count": 16,
   "id": "c268eea2",
   "metadata": {},
   "outputs": [],
   "source": [
    "df['Sub-Setor'] = df['Setor'].apply(lambda s: s[s.rfind('/') + 1:].strip())\n",
    "df['Setor'] = df['Setor'].apply(lambda s: s[:s.rfind('/')].strip())"
   ]
  },
  {
   "cell_type": "code",
   "execution_count": 7,
   "id": "3e2db435",
   "metadata": {},
   "outputs": [],
   "source": [
    "def conserta_setores(setor):\n",
    "    if setor == 'Cons N  Básico' or setor == 'Cons N Cíclico': return 'Consumo Não-Cíclico'\n",
    "    if setor == 'Financeiro e Outros' or setor == 'Financ e Outros': return 'Financeiro'\n",
    "    if setor == 'Telecomunicaçã': return 'Telecomunicações'\n",
    "    if setor == 'Tec.Informação': return 'Tec. Informação'\n",
    "    if setor == 'Utilidade Públ': return 'Utilidade Pública'\n",
    "    else: return setor"
   ]
  },
  {
   "cell_type": "code",
   "execution_count": 8,
   "id": "c8fbae0a",
   "metadata": {},
   "outputs": [],
   "source": [
    "df['Setor'] = df['Setor'].apply(conserta_setores)"
   ]
  },
  {
   "cell_type": "code",
   "execution_count": 17,
   "id": "d970385a",
   "metadata": {},
   "outputs": [
    {
     "data": {
      "application/vnd.plotly.v1+json": {
       "config": {
        "plotlyServerURL": "https://plot.ly"
       },
       "data": [
        {
         "branchvalues": "total",
         "domain": {
          "x": [
           0,
           1
          ],
          "y": [
           0,
           1
          ]
         },
         "hovertemplate": "<b>%{label}: </b> %{value:.2f}%",
         "ids": [
          "Saúde/SM Hosp An.Diag/AALR3",
          "Financ e Outros/Interms Financs/ABCB4",
          "Utilidade Públ/Energ Elétrica/AESB3",
          "Cons N Ciclico/Agropecuária/AGRO3",
          "Financ e Outros/Explor Imóveis/ALSO3",
          "Utilidade Públ/Energ Elétrica/ALUP11",
          "Consumo Cíclico/Comércio/AMAR3",
          "Utilidade Públ/Água Saneamento/AMBP3",
          "Diverso/Diversos/ANIM3",
          "Consumo Cíclico/Comércio/ARZZ3",
          "Bens Indls/Transporte/AZUL4",
          "Cons N  Básico/Alimentos Processados/BEEF3",
          "Consumo Cíclico/Hotel e Restaur/BKBR3",
          "Financ e Outros/Interms Financs/BMGB4",
          "Tec.Informação/Programas Servs/BMOB3",
          "Financeiro e Outros/Serviços Financeiros Diversos/BOAS3",
          "Financ e Outros/Explor Imóveis/BRML3",
          "Financ e Outros/Explor Imóveis/BRPR3",
          "Financ e Outros/Interms Financs/BRSR6",
          "Cons N  Básico/Alimentos Processados/CAML3",
          "Financeiro e Outros/Serviços Financeiros Diversos/CARD3",
          "Tec.Informação/Programas Servs/CASH3",
          "Consumo Cíclico/Comércio/CEAB3",
          "Utilidade Públ/Energ Elétrica/CESP6",
          "Financeiro e Outros/Serviços Financeiros Diversos/CIEL3",
          "Diverso/Diversos/COGN3",
          "Utilidade Públ/Água Saneamento/CSMG3",
          "Consumo Cíclico/Constr Civil/CURY3",
          "Consumo Cíclico/Viagens e Lazer/CVCB3",
          "Consumo Cíclico/Constr Civil/CYRE3",
          "Mats Básicos/Químicos/DEXP3",
          "Consumo Cíclico/Constr Civil/DIRR3",
          "Bens Indls/Transporte/ECOR3",
          "Petróleo/Gás e Biocombustíveis/ENAT3",
          "Utilidade Públ/Energ Elétrica/ENBR3",
          "Tec.Informação/Programas Servs/ENJU3",
          "Consumo Cíclico/Comércio/ESPA3",
          "Consumo Cíclico/Constr Civil/EVEN3",
          "Consumo Cíclico/Constr Civil/EZTC3",
          "Mats Básicos/Sid Metalurgia/FESA4",
          "Saúde/SM Hosp An.Diag/FLRY3",
          "Consumo Cíclico/Constr Civil/GFSA3",
          "Mats Básicos/Sid Metalurgia/GOAU4",
          "Bens Indls/Transporte/GOLL4",
          "Consumo Cíclico/Tecid Vest Calç/GRND3",
          "Consumo Cíclico/Comércio/GUAR3",
          "Consumo Cíclico/Constr Civil/HBOR3",
          "Bens Indls/Transporte/HBSA3",
          "Financ e Outros/Explor Imóveis/IGTA3",
          "Comput e Equip/Comput e Equips/INTB3",
          "Financ e Outros/Previd  Seguros/IRBR3",
          "Consumo Cíclico/Constr Civil/JHSF3",
          "Financ e Outros/Explor Imóveis/JPSA3",
          "Bens Indls/Máqs e Equips/KEPL3",
          "Consumo Cíclico/Comércio/LAME3",
          "Consumo Cíclico/Comércio/LAME4",
          "Consumo Cíclico/Constr Civil/LAVV3",
          "Diverso/Diversos/LCAM3",
          "Consumo Cíclico/Autos e Motos/LEVE3",
          "Utilidade Públ/Energ Elétrica/LIGT3",
          "Consumo Cíclico/Comércio/LJQQ3",
          "Financ e Outros/Explor Imóveis/LOGG3",
          "Bens Indls/Transporte/LOGN3",
          "Financ e Outros/Explor Imóveis/LPSB3",
          "Tec.Informação/Programas Servs/LWSA3",
          "Cons N  Básico/Alimentos Processados/MDIA3",
          "Consumo Cíclico/Hotel e Restaur/MEAL3",
          "Bens Indls/Máqs e Equips/MILS3",
          "Tec.Informação/Programas Servs/MOSI3",
          "Diverso/Diversos/MOVI3",
          "Cons N  Básico/Alimentos Processados/MRFG3",
          "Consumo Cíclico/Constr Civil/MRVE3",
          "Consumo Cíclico/Constr Civil/MTRE3",
          "Financ e Outros/Explor Imóveis/MULT3",
          "Consumo Cíclico/Autos e Motos/MYPK3",
          "Tec.Informação/Programas Servs/NGRD3",
          "Saúde/SM Hosp An.Diag/ODPV3",
          "Utilidade Públ/Energ Elétrica/OMGE3",
          "Petróleo/Gás e Biocombustíveis/OPCT3",
          "Saúde/SM Hosp An.Diag/PARD3",
          "Cons N Cíclico/Comércio Distr./PCAR3",
          "Consumo Cíclico/Comércio/PETZ3",
          "Saúde/Comércio Distr./PGMN3",
          "Consumo Cíclico/Constr Civil/PLPL3",
          "Mats Básicos/Sid Metalurgia/PMAM3",
          "Saúde/Comércio Distr./PNVL3",
          "Bens Indls/Mat Transporte/POMO4",
          "Comput e Equip/Comput e Equips/POSI3",
          "Bens Industriais/Constr e Engenh/PTBL3",
          "Saúde/SM Hosp An.Diag/QUAL3",
          "Mats Básicos/Embalagens/RANI3",
          "Bens Indls/Mat Transporte/RAPT4",
          "Bens Indls/Mat Transporte/RCSL3",
          "Bens Indls/Mat Transporte/RCSL4",
          "Bens Indls/Máqs e Equips/ROMI3",
          "Petróleo/Gás e Biocombustíveis/RRRP3",
          "Utilidade Públ/Água Saneamento/SAPR11",
          "Utilidade Públ/Água Saneamento/SAPR4",
          "Consumo Cíclico/Comércio/SBFG3",
          "Diverso/Diversos/SEER3",
          "Bens Indls/Serviços/SEQL3",
          "Consumo Cíclico/Viagens e Lazer/SHOW3",
          "Bens Indls/Máqs e Equips/SHUL4",
          "Financ e Outros/Holdings Divers/SIMH3",
          "Cons N Ciclico/Agropecuária/SLCE3",
          "Cons N  Básico/Alimentos Processados/SMTO3",
          "Consumo Cíclico/Comércio/SOMA3",
          "Tec.Informação/Programas Servs/SQIA3",
          "Bens Indls/Transporte/STBP3",
          "Financ e Outros/Previd  Seguros/SULA11",
          "Financ e Outros/Explor Imóveis/SYNE3",
          "Utilidade Públ/Energ Elétrica/TAEE11",
          "Bens Indls/Máqs e Equips/TASA4",
          "Consumo Cíclico/Constr Civil/TCSA3",
          "Consumo Cíclico/Tecid Vest Calç/TECN3",
          "Consumo Cíclico/Constr Civil/TEND3",
          "Bens Indls/Transporte/TGMA3",
          "Bens Indls/Transporte/TPIS3",
          "Consumo Cíclico/Constr Civil/TRIS3",
          "Bens Indls/Mat Transporte/TUPY3",
          "Mats Básicos/Químicos/UNIP6",
          "Consumo Cíclico/Tecid Vest Calç/VIVA3",
          "Bens Indls/Serviços/VLID3",
          "Consumo Cíclico/Tecid Vest Calç/VULC3",
          "Tec.Informação/Programas Servs/WEST3",
          "Financ e Outros/Previd  Seguros/WIZS3",
          "Diverso/Diversos/YDUQ3",
          "Cons N Ciclico/Agropecuária",
          "Cons N  Básico/Alimentos Processados",
          "Consumo Cíclico/Autos e Motos",
          "Comput e Equip/Comput e Equips",
          "Consumo Cíclico/Comércio",
          "Cons N Cíclico/Comércio Distr.",
          "Saúde/Comércio Distr.",
          "Consumo Cíclico/Constr Civil",
          "Bens Industriais/Constr e Engenh",
          "Diverso/Diversos",
          "Mats Básicos/Embalagens",
          "Utilidade Públ/Energ Elétrica",
          "Financ e Outros/Explor Imóveis",
          "Petróleo/Gás e Biocombustíveis",
          "Financ e Outros/Holdings Divers",
          "Consumo Cíclico/Hotel e Restaur",
          "Financ e Outros/Interms Financs",
          "Bens Indls/Mat Transporte",
          "Bens Indls/Máqs e Equips",
          "Financ e Outros/Previd  Seguros",
          "Tec.Informação/Programas Servs",
          "Mats Básicos/Químicos",
          "Saúde/SM Hosp An.Diag",
          "Bens Indls/Serviços",
          "Financeiro e Outros/Serviços Financeiros Diversos",
          "Mats Básicos/Sid Metalurgia",
          "Consumo Cíclico/Tecid Vest Calç",
          "Bens Indls/Transporte",
          "Consumo Cíclico/Viagens e Lazer",
          "Utilidade Públ/Água Saneamento",
          "Bens Indls",
          "Bens Industriais",
          "Comput e Equip",
          "Cons N  Básico",
          "Cons N Ciclico",
          "Cons N Cíclico",
          "Consumo Cíclico",
          "Diverso",
          "Financ e Outros",
          "Financeiro e Outros",
          "Mats Básicos",
          "Petróleo",
          "Saúde",
          "Tec.Informação",
          "Utilidade Públ"
         ],
         "labels": [
          "AALR3",
          "ABCB4",
          "AESB3",
          "AGRO3",
          "ALSO3",
          "ALUP11",
          "AMAR3",
          "AMBP3",
          "ANIM3",
          "ARZZ3",
          "AZUL4",
          "BEEF3",
          "BKBR3",
          "BMGB4",
          "BMOB3",
          "BOAS3",
          "BRML3",
          "BRPR3",
          "BRSR6",
          "CAML3",
          "CARD3",
          "CASH3",
          "CEAB3",
          "CESP6",
          "CIEL3",
          "COGN3",
          "CSMG3",
          "CURY3",
          "CVCB3",
          "CYRE3",
          "DEXP3",
          "DIRR3",
          "ECOR3",
          "ENAT3",
          "ENBR3",
          "ENJU3",
          "ESPA3",
          "EVEN3",
          "EZTC3",
          "FESA4",
          "FLRY3",
          "GFSA3",
          "GOAU4",
          "GOLL4",
          "GRND3",
          "GUAR3",
          "HBOR3",
          "HBSA3",
          "IGTA3",
          "INTB3",
          "IRBR3",
          "JHSF3",
          "JPSA3",
          "KEPL3",
          "LAME3",
          "LAME4",
          "LAVV3",
          "LCAM3",
          "LEVE3",
          "LIGT3",
          "LJQQ3",
          "LOGG3",
          "LOGN3",
          "LPSB3",
          "LWSA3",
          "MDIA3",
          "MEAL3",
          "MILS3",
          "MOSI3",
          "MOVI3",
          "MRFG3",
          "MRVE3",
          "MTRE3",
          "MULT3",
          "MYPK3",
          "NGRD3",
          "ODPV3",
          "OMGE3",
          "OPCT3",
          "PARD3",
          "PCAR3",
          "PETZ3",
          "PGMN3",
          "PLPL3",
          "PMAM3",
          "PNVL3",
          "POMO4",
          "POSI3",
          "PTBL3",
          "QUAL3",
          "RANI3",
          "RAPT4",
          "RCSL3",
          "RCSL4",
          "ROMI3",
          "RRRP3",
          "SAPR11",
          "SAPR4",
          "SBFG3",
          "SEER3",
          "SEQL3",
          "SHOW3",
          "SHUL4",
          "SIMH3",
          "SLCE3",
          "SMTO3",
          "SOMA3",
          "SQIA3",
          "STBP3",
          "SULA11",
          "SYNE3",
          "TAEE11",
          "TASA4",
          "TCSA3",
          "TECN3",
          "TEND3",
          "TGMA3",
          "TPIS3",
          "TRIS3",
          "TUPY3",
          "UNIP6",
          "VIVA3",
          "VLID3",
          "VULC3",
          "WEST3",
          "WIZS3",
          "YDUQ3",
          "Agropecuária",
          "Alimentos Processados",
          "Autos e Motos",
          "Comput e Equips",
          "Comércio",
          "Comércio Distr.",
          "Comércio Distr.",
          "Constr Civil",
          "Constr e Engenh",
          "Diversos",
          "Embalagens",
          "Energ Elétrica",
          "Explor Imóveis",
          "Gás e Biocombustíveis",
          "Holdings Divers",
          "Hotel e Restaur",
          "Interms Financs",
          "Mat Transporte",
          "Máqs e Equips",
          "Previd  Seguros",
          "Programas Servs",
          "Químicos",
          "SM Hosp An.Diag",
          "Serviços",
          "Serviços Financeiros Diversos",
          "Sid Metalurgia",
          "Tecid Vest Calç",
          "Transporte",
          "Viagens e Lazer",
          "Água Saneamento",
          "Bens Indls",
          "Bens Industriais",
          "Comput e Equip",
          "Cons N  Básico",
          "Cons N Ciclico",
          "Cons N Cíclico",
          "Consumo Cíclico",
          "Diverso",
          "Financ e Outros",
          "Financeiro e Outros",
          "Mats Básicos",
          "Petróleo",
          "Saúde",
          "Tec.Informação",
          "Utilidade Públ"
         ],
         "name": "",
         "parents": [
          "Saúde/SM Hosp An.Diag",
          "Financ e Outros/Interms Financs",
          "Utilidade Públ/Energ Elétrica",
          "Cons N Ciclico/Agropecuária",
          "Financ e Outros/Explor Imóveis",
          "Utilidade Públ/Energ Elétrica",
          "Consumo Cíclico/Comércio",
          "Utilidade Públ/Água Saneamento",
          "Diverso/Diversos",
          "Consumo Cíclico/Comércio",
          "Bens Indls/Transporte",
          "Cons N  Básico/Alimentos Processados",
          "Consumo Cíclico/Hotel e Restaur",
          "Financ e Outros/Interms Financs",
          "Tec.Informação/Programas Servs",
          "Financeiro e Outros/Serviços Financeiros Diversos",
          "Financ e Outros/Explor Imóveis",
          "Financ e Outros/Explor Imóveis",
          "Financ e Outros/Interms Financs",
          "Cons N  Básico/Alimentos Processados",
          "Financeiro e Outros/Serviços Financeiros Diversos",
          "Tec.Informação/Programas Servs",
          "Consumo Cíclico/Comércio",
          "Utilidade Públ/Energ Elétrica",
          "Financeiro e Outros/Serviços Financeiros Diversos",
          "Diverso/Diversos",
          "Utilidade Públ/Água Saneamento",
          "Consumo Cíclico/Constr Civil",
          "Consumo Cíclico/Viagens e Lazer",
          "Consumo Cíclico/Constr Civil",
          "Mats Básicos/Químicos",
          "Consumo Cíclico/Constr Civil",
          "Bens Indls/Transporte",
          "Petróleo/Gás e Biocombustíveis",
          "Utilidade Públ/Energ Elétrica",
          "Tec.Informação/Programas Servs",
          "Consumo Cíclico/Comércio",
          "Consumo Cíclico/Constr Civil",
          "Consumo Cíclico/Constr Civil",
          "Mats Básicos/Sid Metalurgia",
          "Saúde/SM Hosp An.Diag",
          "Consumo Cíclico/Constr Civil",
          "Mats Básicos/Sid Metalurgia",
          "Bens Indls/Transporte",
          "Consumo Cíclico/Tecid Vest Calç",
          "Consumo Cíclico/Comércio",
          "Consumo Cíclico/Constr Civil",
          "Bens Indls/Transporte",
          "Financ e Outros/Explor Imóveis",
          "Comput e Equip/Comput e Equips",
          "Financ e Outros/Previd  Seguros",
          "Consumo Cíclico/Constr Civil",
          "Financ e Outros/Explor Imóveis",
          "Bens Indls/Máqs e Equips",
          "Consumo Cíclico/Comércio",
          "Consumo Cíclico/Comércio",
          "Consumo Cíclico/Constr Civil",
          "Diverso/Diversos",
          "Consumo Cíclico/Autos e Motos",
          "Utilidade Públ/Energ Elétrica",
          "Consumo Cíclico/Comércio",
          "Financ e Outros/Explor Imóveis",
          "Bens Indls/Transporte",
          "Financ e Outros/Explor Imóveis",
          "Tec.Informação/Programas Servs",
          "Cons N  Básico/Alimentos Processados",
          "Consumo Cíclico/Hotel e Restaur",
          "Bens Indls/Máqs e Equips",
          "Tec.Informação/Programas Servs",
          "Diverso/Diversos",
          "Cons N  Básico/Alimentos Processados",
          "Consumo Cíclico/Constr Civil",
          "Consumo Cíclico/Constr Civil",
          "Financ e Outros/Explor Imóveis",
          "Consumo Cíclico/Autos e Motos",
          "Tec.Informação/Programas Servs",
          "Saúde/SM Hosp An.Diag",
          "Utilidade Públ/Energ Elétrica",
          "Petróleo/Gás e Biocombustíveis",
          "Saúde/SM Hosp An.Diag",
          "Cons N Cíclico/Comércio Distr.",
          "Consumo Cíclico/Comércio",
          "Saúde/Comércio Distr.",
          "Consumo Cíclico/Constr Civil",
          "Mats Básicos/Sid Metalurgia",
          "Saúde/Comércio Distr.",
          "Bens Indls/Mat Transporte",
          "Comput e Equip/Comput e Equips",
          "Bens Industriais/Constr e Engenh",
          "Saúde/SM Hosp An.Diag",
          "Mats Básicos/Embalagens",
          "Bens Indls/Mat Transporte",
          "Bens Indls/Mat Transporte",
          "Bens Indls/Mat Transporte",
          "Bens Indls/Máqs e Equips",
          "Petróleo/Gás e Biocombustíveis",
          "Utilidade Públ/Água Saneamento",
          "Utilidade Públ/Água Saneamento",
          "Consumo Cíclico/Comércio",
          "Diverso/Diversos",
          "Bens Indls/Serviços",
          "Consumo Cíclico/Viagens e Lazer",
          "Bens Indls/Máqs e Equips",
          "Financ e Outros/Holdings Divers",
          "Cons N Ciclico/Agropecuária",
          "Cons N  Básico/Alimentos Processados",
          "Consumo Cíclico/Comércio",
          "Tec.Informação/Programas Servs",
          "Bens Indls/Transporte",
          "Financ e Outros/Previd  Seguros",
          "Financ e Outros/Explor Imóveis",
          "Utilidade Públ/Energ Elétrica",
          "Bens Indls/Máqs e Equips",
          "Consumo Cíclico/Constr Civil",
          "Consumo Cíclico/Tecid Vest Calç",
          "Consumo Cíclico/Constr Civil",
          "Bens Indls/Transporte",
          "Bens Indls/Transporte",
          "Consumo Cíclico/Constr Civil",
          "Bens Indls/Mat Transporte",
          "Mats Básicos/Químicos",
          "Consumo Cíclico/Tecid Vest Calç",
          "Bens Indls/Serviços",
          "Consumo Cíclico/Tecid Vest Calç",
          "Tec.Informação/Programas Servs",
          "Financ e Outros/Previd  Seguros",
          "Diverso/Diversos",
          "Cons N Ciclico",
          "Cons N  Básico",
          "Consumo Cíclico",
          "Comput e Equip",
          "Consumo Cíclico",
          "Cons N Cíclico",
          "Saúde",
          "Consumo Cíclico",
          "Bens Industriais",
          "Diverso",
          "Mats Básicos",
          "Utilidade Públ",
          "Financ e Outros",
          "Petróleo",
          "Financ e Outros",
          "Consumo Cíclico",
          "Financ e Outros",
          "Bens Indls",
          "Bens Indls",
          "Financ e Outros",
          "Tec.Informação",
          "Mats Básicos",
          "Saúde",
          "Bens Indls",
          "Financeiro e Outros",
          "Mats Básicos",
          "Consumo Cíclico",
          "Bens Indls",
          "Consumo Cíclico",
          "Utilidade Públ",
          "",
          "",
          "",
          "",
          "",
          "",
          "",
          "",
          "",
          "",
          "",
          "",
          "",
          "",
          ""
         ],
         "textfont": {
          "color": "white",
          "size": 14
         },
         "type": "sunburst",
         "values": [
          0.166,
          0.325,
          1.171,
          0.51,
          0.853,
          1.016,
          0.18,
          0.564,
          0.788,
          1.348,
          3.459,
          0.803,
          0.597,
          0.112,
          0.397,
          1.844,
          2.111,
          0.452,
          0.728,
          0.329,
          0.105,
          0.878,
          0.232,
          1.333,
          0.865,
          1.646,
          0.785,
          0.237,
          1.321,
          1.502,
          0.186,
          0.275,
          0.971,
          0.349,
          1.298,
          0.251,
          0.593,
          0.459,
          0.718,
          0.677,
          1.94,
          0.094,
          2.631,
          1.006,
          0.731,
          0.333,
          0.122,
          0.911,
          0.838,
          0.687,
          1.889,
          0.546,
          0.292,
          0.343,
          0.341,
          1.282,
          0.167,
          2.356,
          0.445,
          1.451,
          0.841,
          0.472,
          0.685,
          0.1,
          2.794,
          0.776,
          0.261,
          0.203,
          0.241,
          0.688,
          2.763,
          1.07,
          0.134,
          1.639,
          0.761,
          0.151,
          1.123,
          1.194,
          0.155,
          0.276,
          1.223,
          1.71,
          0.556,
          0.075,
          0.136,
          0.302,
          0.474,
          0.234,
          0.232,
          1.614,
          0.23,
          0.599,
          0.039,
          0.022,
          0.209,
          1.599,
          1.171,
          0.24,
          0.799,
          0.206,
          0.391,
          0.048,
          0.244,
          0.913,
          1.32,
          1.574,
          2.07,
          0.44,
          1.9,
          2.155,
          0.19,
          2.404,
          0.418,
          0.079,
          0.073,
          0.501,
          0.165,
          0.058,
          0.183,
          0.41,
          1.041,
          0.866,
          0.196,
          0.213,
          0.142,
          0.275,
          2.358,
          1.83,
          6.245,
          1.206,
          0.921,
          9.729,
          1.223,
          0.8580000000000001,
          6.162,
          0.232,
          8.042,
          0.23,
          9.867,
          6.947000000000001,
          2.1029999999999998,
          0.913,
          0.858,
          1.165,
          1.5439999999999998,
          1.417,
          4.319,
          5.2940000000000005,
          1.2269999999999999,
          5.119,
          0.587,
          2.814,
          3.444,
          1.883,
          9.155,
          1.369,
          2.76,
          12.703,
          0.232,
          0.921,
          6.245,
          1.83,
          1.223,
          21.207000000000004,
          8.042,
          13.344,
          2.814,
          4.901,
          2.1029999999999998,
          5.977,
          5.2940000000000005,
          12.626999999999999
         ]
        }
       ],
       "layout": {
        "height": 900,
        "legend": {
         "tracegroupgap": 0
        },
        "margin": {
         "t": 60
        },
        "template": {
         "data": {
          "bar": [
           {
            "error_x": {
             "color": "#2a3f5f"
            },
            "error_y": {
             "color": "#2a3f5f"
            },
            "marker": {
             "line": {
              "color": "#E5ECF6",
              "width": 0.5
             }
            },
            "type": "bar"
           }
          ],
          "barpolar": [
           {
            "marker": {
             "line": {
              "color": "#E5ECF6",
              "width": 0.5
             }
            },
            "type": "barpolar"
           }
          ],
          "carpet": [
           {
            "aaxis": {
             "endlinecolor": "#2a3f5f",
             "gridcolor": "white",
             "linecolor": "white",
             "minorgridcolor": "white",
             "startlinecolor": "#2a3f5f"
            },
            "baxis": {
             "endlinecolor": "#2a3f5f",
             "gridcolor": "white",
             "linecolor": "white",
             "minorgridcolor": "white",
             "startlinecolor": "#2a3f5f"
            },
            "type": "carpet"
           }
          ],
          "choropleth": [
           {
            "colorbar": {
             "outlinewidth": 0,
             "ticks": ""
            },
            "type": "choropleth"
           }
          ],
          "contour": [
           {
            "colorbar": {
             "outlinewidth": 0,
             "ticks": ""
            },
            "colorscale": [
             [
              0,
              "#0d0887"
             ],
             [
              0.1111111111111111,
              "#46039f"
             ],
             [
              0.2222222222222222,
              "#7201a8"
             ],
             [
              0.3333333333333333,
              "#9c179e"
             ],
             [
              0.4444444444444444,
              "#bd3786"
             ],
             [
              0.5555555555555556,
              "#d8576b"
             ],
             [
              0.6666666666666666,
              "#ed7953"
             ],
             [
              0.7777777777777778,
              "#fb9f3a"
             ],
             [
              0.8888888888888888,
              "#fdca26"
             ],
             [
              1,
              "#f0f921"
             ]
            ],
            "type": "contour"
           }
          ],
          "contourcarpet": [
           {
            "colorbar": {
             "outlinewidth": 0,
             "ticks": ""
            },
            "type": "contourcarpet"
           }
          ],
          "heatmap": [
           {
            "colorbar": {
             "outlinewidth": 0,
             "ticks": ""
            },
            "colorscale": [
             [
              0,
              "#0d0887"
             ],
             [
              0.1111111111111111,
              "#46039f"
             ],
             [
              0.2222222222222222,
              "#7201a8"
             ],
             [
              0.3333333333333333,
              "#9c179e"
             ],
             [
              0.4444444444444444,
              "#bd3786"
             ],
             [
              0.5555555555555556,
              "#d8576b"
             ],
             [
              0.6666666666666666,
              "#ed7953"
             ],
             [
              0.7777777777777778,
              "#fb9f3a"
             ],
             [
              0.8888888888888888,
              "#fdca26"
             ],
             [
              1,
              "#f0f921"
             ]
            ],
            "type": "heatmap"
           }
          ],
          "heatmapgl": [
           {
            "colorbar": {
             "outlinewidth": 0,
             "ticks": ""
            },
            "colorscale": [
             [
              0,
              "#0d0887"
             ],
             [
              0.1111111111111111,
              "#46039f"
             ],
             [
              0.2222222222222222,
              "#7201a8"
             ],
             [
              0.3333333333333333,
              "#9c179e"
             ],
             [
              0.4444444444444444,
              "#bd3786"
             ],
             [
              0.5555555555555556,
              "#d8576b"
             ],
             [
              0.6666666666666666,
              "#ed7953"
             ],
             [
              0.7777777777777778,
              "#fb9f3a"
             ],
             [
              0.8888888888888888,
              "#fdca26"
             ],
             [
              1,
              "#f0f921"
             ]
            ],
            "type": "heatmapgl"
           }
          ],
          "histogram": [
           {
            "marker": {
             "colorbar": {
              "outlinewidth": 0,
              "ticks": ""
             }
            },
            "type": "histogram"
           }
          ],
          "histogram2d": [
           {
            "colorbar": {
             "outlinewidth": 0,
             "ticks": ""
            },
            "colorscale": [
             [
              0,
              "#0d0887"
             ],
             [
              0.1111111111111111,
              "#46039f"
             ],
             [
              0.2222222222222222,
              "#7201a8"
             ],
             [
              0.3333333333333333,
              "#9c179e"
             ],
             [
              0.4444444444444444,
              "#bd3786"
             ],
             [
              0.5555555555555556,
              "#d8576b"
             ],
             [
              0.6666666666666666,
              "#ed7953"
             ],
             [
              0.7777777777777778,
              "#fb9f3a"
             ],
             [
              0.8888888888888888,
              "#fdca26"
             ],
             [
              1,
              "#f0f921"
             ]
            ],
            "type": "histogram2d"
           }
          ],
          "histogram2dcontour": [
           {
            "colorbar": {
             "outlinewidth": 0,
             "ticks": ""
            },
            "colorscale": [
             [
              0,
              "#0d0887"
             ],
             [
              0.1111111111111111,
              "#46039f"
             ],
             [
              0.2222222222222222,
              "#7201a8"
             ],
             [
              0.3333333333333333,
              "#9c179e"
             ],
             [
              0.4444444444444444,
              "#bd3786"
             ],
             [
              0.5555555555555556,
              "#d8576b"
             ],
             [
              0.6666666666666666,
              "#ed7953"
             ],
             [
              0.7777777777777778,
              "#fb9f3a"
             ],
             [
              0.8888888888888888,
              "#fdca26"
             ],
             [
              1,
              "#f0f921"
             ]
            ],
            "type": "histogram2dcontour"
           }
          ],
          "mesh3d": [
           {
            "colorbar": {
             "outlinewidth": 0,
             "ticks": ""
            },
            "type": "mesh3d"
           }
          ],
          "parcoords": [
           {
            "line": {
             "colorbar": {
              "outlinewidth": 0,
              "ticks": ""
             }
            },
            "type": "parcoords"
           }
          ],
          "pie": [
           {
            "automargin": true,
            "type": "pie"
           }
          ],
          "scatter": [
           {
            "marker": {
             "colorbar": {
              "outlinewidth": 0,
              "ticks": ""
             }
            },
            "type": "scatter"
           }
          ],
          "scatter3d": [
           {
            "line": {
             "colorbar": {
              "outlinewidth": 0,
              "ticks": ""
             }
            },
            "marker": {
             "colorbar": {
              "outlinewidth": 0,
              "ticks": ""
             }
            },
            "type": "scatter3d"
           }
          ],
          "scattercarpet": [
           {
            "marker": {
             "colorbar": {
              "outlinewidth": 0,
              "ticks": ""
             }
            },
            "type": "scattercarpet"
           }
          ],
          "scattergeo": [
           {
            "marker": {
             "colorbar": {
              "outlinewidth": 0,
              "ticks": ""
             }
            },
            "type": "scattergeo"
           }
          ],
          "scattergl": [
           {
            "marker": {
             "colorbar": {
              "outlinewidth": 0,
              "ticks": ""
             }
            },
            "type": "scattergl"
           }
          ],
          "scattermapbox": [
           {
            "marker": {
             "colorbar": {
              "outlinewidth": 0,
              "ticks": ""
             }
            },
            "type": "scattermapbox"
           }
          ],
          "scatterpolar": [
           {
            "marker": {
             "colorbar": {
              "outlinewidth": 0,
              "ticks": ""
             }
            },
            "type": "scatterpolar"
           }
          ],
          "scatterpolargl": [
           {
            "marker": {
             "colorbar": {
              "outlinewidth": 0,
              "ticks": ""
             }
            },
            "type": "scatterpolargl"
           }
          ],
          "scatterternary": [
           {
            "marker": {
             "colorbar": {
              "outlinewidth": 0,
              "ticks": ""
             }
            },
            "type": "scatterternary"
           }
          ],
          "surface": [
           {
            "colorbar": {
             "outlinewidth": 0,
             "ticks": ""
            },
            "colorscale": [
             [
              0,
              "#0d0887"
             ],
             [
              0.1111111111111111,
              "#46039f"
             ],
             [
              0.2222222222222222,
              "#7201a8"
             ],
             [
              0.3333333333333333,
              "#9c179e"
             ],
             [
              0.4444444444444444,
              "#bd3786"
             ],
             [
              0.5555555555555556,
              "#d8576b"
             ],
             [
              0.6666666666666666,
              "#ed7953"
             ],
             [
              0.7777777777777778,
              "#fb9f3a"
             ],
             [
              0.8888888888888888,
              "#fdca26"
             ],
             [
              1,
              "#f0f921"
             ]
            ],
            "type": "surface"
           }
          ],
          "table": [
           {
            "cells": {
             "fill": {
              "color": "#EBF0F8"
             },
             "line": {
              "color": "white"
             }
            },
            "header": {
             "fill": {
              "color": "#C8D4E3"
             },
             "line": {
              "color": "white"
             }
            },
            "type": "table"
           }
          ]
         },
         "layout": {
          "annotationdefaults": {
           "arrowcolor": "#2a3f5f",
           "arrowhead": 0,
           "arrowwidth": 1
          },
          "autotypenumbers": "strict",
          "coloraxis": {
           "colorbar": {
            "outlinewidth": 0,
            "ticks": ""
           }
          },
          "colorscale": {
           "diverging": [
            [
             0,
             "#8e0152"
            ],
            [
             0.1,
             "#c51b7d"
            ],
            [
             0.2,
             "#de77ae"
            ],
            [
             0.3,
             "#f1b6da"
            ],
            [
             0.4,
             "#fde0ef"
            ],
            [
             0.5,
             "#f7f7f7"
            ],
            [
             0.6,
             "#e6f5d0"
            ],
            [
             0.7,
             "#b8e186"
            ],
            [
             0.8,
             "#7fbc41"
            ],
            [
             0.9,
             "#4d9221"
            ],
            [
             1,
             "#276419"
            ]
           ],
           "sequential": [
            [
             0,
             "#0d0887"
            ],
            [
             0.1111111111111111,
             "#46039f"
            ],
            [
             0.2222222222222222,
             "#7201a8"
            ],
            [
             0.3333333333333333,
             "#9c179e"
            ],
            [
             0.4444444444444444,
             "#bd3786"
            ],
            [
             0.5555555555555556,
             "#d8576b"
            ],
            [
             0.6666666666666666,
             "#ed7953"
            ],
            [
             0.7777777777777778,
             "#fb9f3a"
            ],
            [
             0.8888888888888888,
             "#fdca26"
            ],
            [
             1,
             "#f0f921"
            ]
           ],
           "sequentialminus": [
            [
             0,
             "#0d0887"
            ],
            [
             0.1111111111111111,
             "#46039f"
            ],
            [
             0.2222222222222222,
             "#7201a8"
            ],
            [
             0.3333333333333333,
             "#9c179e"
            ],
            [
             0.4444444444444444,
             "#bd3786"
            ],
            [
             0.5555555555555556,
             "#d8576b"
            ],
            [
             0.6666666666666666,
             "#ed7953"
            ],
            [
             0.7777777777777778,
             "#fb9f3a"
            ],
            [
             0.8888888888888888,
             "#fdca26"
            ],
            [
             1,
             "#f0f921"
            ]
           ]
          },
          "colorway": [
           "#636efa",
           "#EF553B",
           "#00cc96",
           "#ab63fa",
           "#FFA15A",
           "#19d3f3",
           "#FF6692",
           "#B6E880",
           "#FF97FF",
           "#FECB52"
          ],
          "font": {
           "color": "#2a3f5f"
          },
          "geo": {
           "bgcolor": "white",
           "lakecolor": "white",
           "landcolor": "#E5ECF6",
           "showlakes": true,
           "showland": true,
           "subunitcolor": "white"
          },
          "hoverlabel": {
           "align": "left"
          },
          "hovermode": "closest",
          "mapbox": {
           "style": "light"
          },
          "paper_bgcolor": "white",
          "plot_bgcolor": "#E5ECF6",
          "polar": {
           "angularaxis": {
            "gridcolor": "white",
            "linecolor": "white",
            "ticks": ""
           },
           "bgcolor": "#E5ECF6",
           "radialaxis": {
            "gridcolor": "white",
            "linecolor": "white",
            "ticks": ""
           }
          },
          "scene": {
           "xaxis": {
            "backgroundcolor": "#E5ECF6",
            "gridcolor": "white",
            "gridwidth": 2,
            "linecolor": "white",
            "showbackground": true,
            "ticks": "",
            "zerolinecolor": "white"
           },
           "yaxis": {
            "backgroundcolor": "#E5ECF6",
            "gridcolor": "white",
            "gridwidth": 2,
            "linecolor": "white",
            "showbackground": true,
            "ticks": "",
            "zerolinecolor": "white"
           },
           "zaxis": {
            "backgroundcolor": "#E5ECF6",
            "gridcolor": "white",
            "gridwidth": 2,
            "linecolor": "white",
            "showbackground": true,
            "ticks": "",
            "zerolinecolor": "white"
           }
          },
          "shapedefaults": {
           "line": {
            "color": "#2a3f5f"
           }
          },
          "ternary": {
           "aaxis": {
            "gridcolor": "white",
            "linecolor": "white",
            "ticks": ""
           },
           "baxis": {
            "gridcolor": "white",
            "linecolor": "white",
            "ticks": ""
           },
           "bgcolor": "#E5ECF6",
           "caxis": {
            "gridcolor": "white",
            "linecolor": "white",
            "ticks": ""
           }
          },
          "title": {
           "x": 0.05
          },
          "xaxis": {
           "automargin": true,
           "gridcolor": "white",
           "linecolor": "white",
           "ticks": "",
           "title": {
            "standoff": 15
           },
           "zerolinecolor": "white",
           "zerolinewidth": 2
          },
          "yaxis": {
           "automargin": true,
           "gridcolor": "white",
           "linecolor": "white",
           "ticks": "",
           "title": {
            "standoff": 15
           },
           "zerolinecolor": "white",
           "zerolinewidth": 2
          }
         }
        }
       }
      },
      "text/html": [
       "<div>                            <div id=\"aa84dd46-70a4-4ff6-a091-55620e8d62d4\" class=\"plotly-graph-div\" style=\"height:900px; width:100%;\"></div>            <script type=\"text/javascript\">                require([\"plotly\"], function(Plotly) {                    window.PLOTLYENV=window.PLOTLYENV || {};                                    if (document.getElementById(\"aa84dd46-70a4-4ff6-a091-55620e8d62d4\")) {                    Plotly.newPlot(                        \"aa84dd46-70a4-4ff6-a091-55620e8d62d4\",                        [{\"branchvalues\": \"total\", \"domain\": {\"x\": [0.0, 1.0], \"y\": [0.0, 1.0]}, \"hovertemplate\": \"<b>%{label}: </b> %{value:.2f}%\", \"ids\": [\"Sa\\u00fade/SM Hosp An.Diag/AALR3\", \"Financ e Outros/Interms Financs/ABCB4\", \"Utilidade P\\u00fabl/Energ El\\u00e9trica/AESB3\", \"Cons N Ciclico/Agropecu\\u00e1ria/AGRO3\", \"Financ e Outros/Explor Im\\u00f3veis/ALSO3\", \"Utilidade P\\u00fabl/Energ El\\u00e9trica/ALUP11\", \"Consumo C\\u00edclico/Com\\u00e9rcio/AMAR3\", \"Utilidade P\\u00fabl/\\u00c1gua Saneamento/AMBP3\", \"Diverso/Diversos/ANIM3\", \"Consumo C\\u00edclico/Com\\u00e9rcio/ARZZ3\", \"Bens Indls/Transporte/AZUL4\", \"Cons N  B\\u00e1sico/Alimentos Processados/BEEF3\", \"Consumo C\\u00edclico/Hotel e Restaur/BKBR3\", \"Financ e Outros/Interms Financs/BMGB4\", \"Tec.Informa\\u00e7\\u00e3o/Programas Servs/BMOB3\", \"Financeiro e Outros/Servi\\u00e7os Financeiros Diversos/BOAS3\", \"Financ e Outros/Explor Im\\u00f3veis/BRML3\", \"Financ e Outros/Explor Im\\u00f3veis/BRPR3\", \"Financ e Outros/Interms Financs/BRSR6\", \"Cons N  B\\u00e1sico/Alimentos Processados/CAML3\", \"Financeiro e Outros/Servi\\u00e7os Financeiros Diversos/CARD3\", \"Tec.Informa\\u00e7\\u00e3o/Programas Servs/CASH3\", \"Consumo C\\u00edclico/Com\\u00e9rcio/CEAB3\", \"Utilidade P\\u00fabl/Energ El\\u00e9trica/CESP6\", \"Financeiro e Outros/Servi\\u00e7os Financeiros Diversos/CIEL3\", \"Diverso/Diversos/COGN3\", \"Utilidade P\\u00fabl/\\u00c1gua Saneamento/CSMG3\", \"Consumo C\\u00edclico/Constr Civil/CURY3\", \"Consumo C\\u00edclico/Viagens e Lazer/CVCB3\", \"Consumo C\\u00edclico/Constr Civil/CYRE3\", \"Mats B\\u00e1sicos/Qu\\u00edmicos/DEXP3\", \"Consumo C\\u00edclico/Constr Civil/DIRR3\", \"Bens Indls/Transporte/ECOR3\", \"Petr\\u00f3leo/G\\u00e1s e Biocombust\\u00edveis/ENAT3\", \"Utilidade P\\u00fabl/Energ El\\u00e9trica/ENBR3\", \"Tec.Informa\\u00e7\\u00e3o/Programas Servs/ENJU3\", \"Consumo C\\u00edclico/Com\\u00e9rcio/ESPA3\", \"Consumo C\\u00edclico/Constr Civil/EVEN3\", \"Consumo C\\u00edclico/Constr Civil/EZTC3\", \"Mats B\\u00e1sicos/Sid Metalurgia/FESA4\", \"Sa\\u00fade/SM Hosp An.Diag/FLRY3\", \"Consumo C\\u00edclico/Constr Civil/GFSA3\", \"Mats B\\u00e1sicos/Sid Metalurgia/GOAU4\", \"Bens Indls/Transporte/GOLL4\", \"Consumo C\\u00edclico/Tecid Vest Cal\\u00e7/GRND3\", \"Consumo C\\u00edclico/Com\\u00e9rcio/GUAR3\", \"Consumo C\\u00edclico/Constr Civil/HBOR3\", \"Bens Indls/Transporte/HBSA3\", \"Financ e Outros/Explor Im\\u00f3veis/IGTA3\", \"Comput e Equip/Comput e Equips/INTB3\", \"Financ e Outros/Previd  Seguros/IRBR3\", \"Consumo C\\u00edclico/Constr Civil/JHSF3\", \"Financ e Outros/Explor Im\\u00f3veis/JPSA3\", \"Bens Indls/M\\u00e1qs e Equips/KEPL3\", \"Consumo C\\u00edclico/Com\\u00e9rcio/LAME3\", \"Consumo C\\u00edclico/Com\\u00e9rcio/LAME4\", \"Consumo C\\u00edclico/Constr Civil/LAVV3\", \"Diverso/Diversos/LCAM3\", \"Consumo C\\u00edclico/Autos e Motos/LEVE3\", \"Utilidade P\\u00fabl/Energ El\\u00e9trica/LIGT3\", \"Consumo C\\u00edclico/Com\\u00e9rcio/LJQQ3\", \"Financ e Outros/Explor Im\\u00f3veis/LOGG3\", \"Bens Indls/Transporte/LOGN3\", \"Financ e Outros/Explor Im\\u00f3veis/LPSB3\", \"Tec.Informa\\u00e7\\u00e3o/Programas Servs/LWSA3\", \"Cons N  B\\u00e1sico/Alimentos Processados/MDIA3\", \"Consumo C\\u00edclico/Hotel e Restaur/MEAL3\", \"Bens Indls/M\\u00e1qs e Equips/MILS3\", \"Tec.Informa\\u00e7\\u00e3o/Programas Servs/MOSI3\", \"Diverso/Diversos/MOVI3\", \"Cons N  B\\u00e1sico/Alimentos Processados/MRFG3\", \"Consumo C\\u00edclico/Constr Civil/MRVE3\", \"Consumo C\\u00edclico/Constr Civil/MTRE3\", \"Financ e Outros/Explor Im\\u00f3veis/MULT3\", \"Consumo C\\u00edclico/Autos e Motos/MYPK3\", \"Tec.Informa\\u00e7\\u00e3o/Programas Servs/NGRD3\", \"Sa\\u00fade/SM Hosp An.Diag/ODPV3\", \"Utilidade P\\u00fabl/Energ El\\u00e9trica/OMGE3\", \"Petr\\u00f3leo/G\\u00e1s e Biocombust\\u00edveis/OPCT3\", \"Sa\\u00fade/SM Hosp An.Diag/PARD3\", \"Cons N C\\u00edclico/Com\\u00e9rcio Distr./PCAR3\", \"Consumo C\\u00edclico/Com\\u00e9rcio/PETZ3\", \"Sa\\u00fade/Com\\u00e9rcio Distr./PGMN3\", \"Consumo C\\u00edclico/Constr Civil/PLPL3\", \"Mats B\\u00e1sicos/Sid Metalurgia/PMAM3\", \"Sa\\u00fade/Com\\u00e9rcio Distr./PNVL3\", \"Bens Indls/Mat Transporte/POMO4\", \"Comput e Equip/Comput e Equips/POSI3\", \"Bens Industriais/Constr e Engenh/PTBL3\", \"Sa\\u00fade/SM Hosp An.Diag/QUAL3\", \"Mats B\\u00e1sicos/Embalagens/RANI3\", \"Bens Indls/Mat Transporte/RAPT4\", \"Bens Indls/Mat Transporte/RCSL3\", \"Bens Indls/Mat Transporte/RCSL4\", \"Bens Indls/M\\u00e1qs e Equips/ROMI3\", \"Petr\\u00f3leo/G\\u00e1s e Biocombust\\u00edveis/RRRP3\", \"Utilidade P\\u00fabl/\\u00c1gua Saneamento/SAPR11\", \"Utilidade P\\u00fabl/\\u00c1gua Saneamento/SAPR4\", \"Consumo C\\u00edclico/Com\\u00e9rcio/SBFG3\", \"Diverso/Diversos/SEER3\", \"Bens Indls/Servi\\u00e7os/SEQL3\", \"Consumo C\\u00edclico/Viagens e Lazer/SHOW3\", \"Bens Indls/M\\u00e1qs e Equips/SHUL4\", \"Financ e Outros/Holdings Divers/SIMH3\", \"Cons N Ciclico/Agropecu\\u00e1ria/SLCE3\", \"Cons N  B\\u00e1sico/Alimentos Processados/SMTO3\", \"Consumo C\\u00edclico/Com\\u00e9rcio/SOMA3\", \"Tec.Informa\\u00e7\\u00e3o/Programas Servs/SQIA3\", \"Bens Indls/Transporte/STBP3\", \"Financ e Outros/Previd  Seguros/SULA11\", \"Financ e Outros/Explor Im\\u00f3veis/SYNE3\", \"Utilidade P\\u00fabl/Energ El\\u00e9trica/TAEE11\", \"Bens Indls/M\\u00e1qs e Equips/TASA4\", \"Consumo C\\u00edclico/Constr Civil/TCSA3\", \"Consumo C\\u00edclico/Tecid Vest Cal\\u00e7/TECN3\", \"Consumo C\\u00edclico/Constr Civil/TEND3\", \"Bens Indls/Transporte/TGMA3\", \"Bens Indls/Transporte/TPIS3\", \"Consumo C\\u00edclico/Constr Civil/TRIS3\", \"Bens Indls/Mat Transporte/TUPY3\", \"Mats B\\u00e1sicos/Qu\\u00edmicos/UNIP6\", \"Consumo C\\u00edclico/Tecid Vest Cal\\u00e7/VIVA3\", \"Bens Indls/Servi\\u00e7os/VLID3\", \"Consumo C\\u00edclico/Tecid Vest Cal\\u00e7/VULC3\", \"Tec.Informa\\u00e7\\u00e3o/Programas Servs/WEST3\", \"Financ e Outros/Previd  Seguros/WIZS3\", \"Diverso/Diversos/YDUQ3\", \"Cons N Ciclico/Agropecu\\u00e1ria\", \"Cons N  B\\u00e1sico/Alimentos Processados\", \"Consumo C\\u00edclico/Autos e Motos\", \"Comput e Equip/Comput e Equips\", \"Consumo C\\u00edclico/Com\\u00e9rcio\", \"Cons N C\\u00edclico/Com\\u00e9rcio Distr.\", \"Sa\\u00fade/Com\\u00e9rcio Distr.\", \"Consumo C\\u00edclico/Constr Civil\", \"Bens Industriais/Constr e Engenh\", \"Diverso/Diversos\", \"Mats B\\u00e1sicos/Embalagens\", \"Utilidade P\\u00fabl/Energ El\\u00e9trica\", \"Financ e Outros/Explor Im\\u00f3veis\", \"Petr\\u00f3leo/G\\u00e1s e Biocombust\\u00edveis\", \"Financ e Outros/Holdings Divers\", \"Consumo C\\u00edclico/Hotel e Restaur\", \"Financ e Outros/Interms Financs\", \"Bens Indls/Mat Transporte\", \"Bens Indls/M\\u00e1qs e Equips\", \"Financ e Outros/Previd  Seguros\", \"Tec.Informa\\u00e7\\u00e3o/Programas Servs\", \"Mats B\\u00e1sicos/Qu\\u00edmicos\", \"Sa\\u00fade/SM Hosp An.Diag\", \"Bens Indls/Servi\\u00e7os\", \"Financeiro e Outros/Servi\\u00e7os Financeiros Diversos\", \"Mats B\\u00e1sicos/Sid Metalurgia\", \"Consumo C\\u00edclico/Tecid Vest Cal\\u00e7\", \"Bens Indls/Transporte\", \"Consumo C\\u00edclico/Viagens e Lazer\", \"Utilidade P\\u00fabl/\\u00c1gua Saneamento\", \"Bens Indls\", \"Bens Industriais\", \"Comput e Equip\", \"Cons N  B\\u00e1sico\", \"Cons N Ciclico\", \"Cons N C\\u00edclico\", \"Consumo C\\u00edclico\", \"Diverso\", \"Financ e Outros\", \"Financeiro e Outros\", \"Mats B\\u00e1sicos\", \"Petr\\u00f3leo\", \"Sa\\u00fade\", \"Tec.Informa\\u00e7\\u00e3o\", \"Utilidade P\\u00fabl\"], \"labels\": [\"AALR3\", \"ABCB4\", \"AESB3\", \"AGRO3\", \"ALSO3\", \"ALUP11\", \"AMAR3\", \"AMBP3\", \"ANIM3\", \"ARZZ3\", \"AZUL4\", \"BEEF3\", \"BKBR3\", \"BMGB4\", \"BMOB3\", \"BOAS3\", \"BRML3\", \"BRPR3\", \"BRSR6\", \"CAML3\", \"CARD3\", \"CASH3\", \"CEAB3\", \"CESP6\", \"CIEL3\", \"COGN3\", \"CSMG3\", \"CURY3\", \"CVCB3\", \"CYRE3\", \"DEXP3\", \"DIRR3\", \"ECOR3\", \"ENAT3\", \"ENBR3\", \"ENJU3\", \"ESPA3\", \"EVEN3\", \"EZTC3\", \"FESA4\", \"FLRY3\", \"GFSA3\", \"GOAU4\", \"GOLL4\", \"GRND3\", \"GUAR3\", \"HBOR3\", \"HBSA3\", \"IGTA3\", \"INTB3\", \"IRBR3\", \"JHSF3\", \"JPSA3\", \"KEPL3\", \"LAME3\", \"LAME4\", \"LAVV3\", \"LCAM3\", \"LEVE3\", \"LIGT3\", \"LJQQ3\", \"LOGG3\", \"LOGN3\", \"LPSB3\", \"LWSA3\", \"MDIA3\", \"MEAL3\", \"MILS3\", \"MOSI3\", \"MOVI3\", \"MRFG3\", \"MRVE3\", \"MTRE3\", \"MULT3\", \"MYPK3\", \"NGRD3\", \"ODPV3\", \"OMGE3\", \"OPCT3\", \"PARD3\", \"PCAR3\", \"PETZ3\", \"PGMN3\", \"PLPL3\", \"PMAM3\", \"PNVL3\", \"POMO4\", \"POSI3\", \"PTBL3\", \"QUAL3\", \"RANI3\", \"RAPT4\", \"RCSL3\", \"RCSL4\", \"ROMI3\", \"RRRP3\", \"SAPR11\", \"SAPR4\", \"SBFG3\", \"SEER3\", \"SEQL3\", \"SHOW3\", \"SHUL4\", \"SIMH3\", \"SLCE3\", \"SMTO3\", \"SOMA3\", \"SQIA3\", \"STBP3\", \"SULA11\", \"SYNE3\", \"TAEE11\", \"TASA4\", \"TCSA3\", \"TECN3\", \"TEND3\", \"TGMA3\", \"TPIS3\", \"TRIS3\", \"TUPY3\", \"UNIP6\", \"VIVA3\", \"VLID3\", \"VULC3\", \"WEST3\", \"WIZS3\", \"YDUQ3\", \"Agropecu\\u00e1ria\", \"Alimentos Processados\", \"Autos e Motos\", \"Comput e Equips\", \"Com\\u00e9rcio\", \"Com\\u00e9rcio Distr.\", \"Com\\u00e9rcio Distr.\", \"Constr Civil\", \"Constr e Engenh\", \"Diversos\", \"Embalagens\", \"Energ El\\u00e9trica\", \"Explor Im\\u00f3veis\", \"G\\u00e1s e Biocombust\\u00edveis\", \"Holdings Divers\", \"Hotel e Restaur\", \"Interms Financs\", \"Mat Transporte\", \"M\\u00e1qs e Equips\", \"Previd  Seguros\", \"Programas Servs\", \"Qu\\u00edmicos\", \"SM Hosp An.Diag\", \"Servi\\u00e7os\", \"Servi\\u00e7os Financeiros Diversos\", \"Sid Metalurgia\", \"Tecid Vest Cal\\u00e7\", \"Transporte\", \"Viagens e Lazer\", \"\\u00c1gua Saneamento\", \"Bens Indls\", \"Bens Industriais\", \"Comput e Equip\", \"Cons N  B\\u00e1sico\", \"Cons N Ciclico\", \"Cons N C\\u00edclico\", \"Consumo C\\u00edclico\", \"Diverso\", \"Financ e Outros\", \"Financeiro e Outros\", \"Mats B\\u00e1sicos\", \"Petr\\u00f3leo\", \"Sa\\u00fade\", \"Tec.Informa\\u00e7\\u00e3o\", \"Utilidade P\\u00fabl\"], \"name\": \"\", \"parents\": [\"Sa\\u00fade/SM Hosp An.Diag\", \"Financ e Outros/Interms Financs\", \"Utilidade P\\u00fabl/Energ El\\u00e9trica\", \"Cons N Ciclico/Agropecu\\u00e1ria\", \"Financ e Outros/Explor Im\\u00f3veis\", \"Utilidade P\\u00fabl/Energ El\\u00e9trica\", \"Consumo C\\u00edclico/Com\\u00e9rcio\", \"Utilidade P\\u00fabl/\\u00c1gua Saneamento\", \"Diverso/Diversos\", \"Consumo C\\u00edclico/Com\\u00e9rcio\", \"Bens Indls/Transporte\", \"Cons N  B\\u00e1sico/Alimentos Processados\", \"Consumo C\\u00edclico/Hotel e Restaur\", \"Financ e Outros/Interms Financs\", \"Tec.Informa\\u00e7\\u00e3o/Programas Servs\", \"Financeiro e Outros/Servi\\u00e7os Financeiros Diversos\", \"Financ e Outros/Explor Im\\u00f3veis\", \"Financ e Outros/Explor Im\\u00f3veis\", \"Financ e Outros/Interms Financs\", \"Cons N  B\\u00e1sico/Alimentos Processados\", \"Financeiro e Outros/Servi\\u00e7os Financeiros Diversos\", \"Tec.Informa\\u00e7\\u00e3o/Programas Servs\", \"Consumo C\\u00edclico/Com\\u00e9rcio\", \"Utilidade P\\u00fabl/Energ El\\u00e9trica\", \"Financeiro e Outros/Servi\\u00e7os Financeiros Diversos\", \"Diverso/Diversos\", \"Utilidade P\\u00fabl/\\u00c1gua Saneamento\", \"Consumo C\\u00edclico/Constr Civil\", \"Consumo C\\u00edclico/Viagens e Lazer\", \"Consumo C\\u00edclico/Constr Civil\", \"Mats B\\u00e1sicos/Qu\\u00edmicos\", \"Consumo C\\u00edclico/Constr Civil\", \"Bens Indls/Transporte\", \"Petr\\u00f3leo/G\\u00e1s e Biocombust\\u00edveis\", \"Utilidade P\\u00fabl/Energ El\\u00e9trica\", \"Tec.Informa\\u00e7\\u00e3o/Programas Servs\", \"Consumo C\\u00edclico/Com\\u00e9rcio\", \"Consumo C\\u00edclico/Constr Civil\", \"Consumo C\\u00edclico/Constr Civil\", \"Mats B\\u00e1sicos/Sid Metalurgia\", \"Sa\\u00fade/SM Hosp An.Diag\", \"Consumo C\\u00edclico/Constr Civil\", \"Mats B\\u00e1sicos/Sid Metalurgia\", \"Bens Indls/Transporte\", \"Consumo C\\u00edclico/Tecid Vest Cal\\u00e7\", \"Consumo C\\u00edclico/Com\\u00e9rcio\", \"Consumo C\\u00edclico/Constr Civil\", \"Bens Indls/Transporte\", \"Financ e Outros/Explor Im\\u00f3veis\", \"Comput e Equip/Comput e Equips\", \"Financ e Outros/Previd  Seguros\", \"Consumo C\\u00edclico/Constr Civil\", \"Financ e Outros/Explor Im\\u00f3veis\", \"Bens Indls/M\\u00e1qs e Equips\", \"Consumo C\\u00edclico/Com\\u00e9rcio\", \"Consumo C\\u00edclico/Com\\u00e9rcio\", \"Consumo C\\u00edclico/Constr Civil\", \"Diverso/Diversos\", \"Consumo C\\u00edclico/Autos e Motos\", \"Utilidade P\\u00fabl/Energ El\\u00e9trica\", \"Consumo C\\u00edclico/Com\\u00e9rcio\", \"Financ e Outros/Explor Im\\u00f3veis\", \"Bens Indls/Transporte\", \"Financ e Outros/Explor Im\\u00f3veis\", \"Tec.Informa\\u00e7\\u00e3o/Programas Servs\", \"Cons N  B\\u00e1sico/Alimentos Processados\", \"Consumo C\\u00edclico/Hotel e Restaur\", \"Bens Indls/M\\u00e1qs e Equips\", \"Tec.Informa\\u00e7\\u00e3o/Programas Servs\", \"Diverso/Diversos\", \"Cons N  B\\u00e1sico/Alimentos Processados\", \"Consumo C\\u00edclico/Constr Civil\", \"Consumo C\\u00edclico/Constr Civil\", \"Financ e Outros/Explor Im\\u00f3veis\", \"Consumo C\\u00edclico/Autos e Motos\", \"Tec.Informa\\u00e7\\u00e3o/Programas Servs\", \"Sa\\u00fade/SM Hosp An.Diag\", \"Utilidade P\\u00fabl/Energ El\\u00e9trica\", \"Petr\\u00f3leo/G\\u00e1s e Biocombust\\u00edveis\", \"Sa\\u00fade/SM Hosp An.Diag\", \"Cons N C\\u00edclico/Com\\u00e9rcio Distr.\", \"Consumo C\\u00edclico/Com\\u00e9rcio\", \"Sa\\u00fade/Com\\u00e9rcio Distr.\", \"Consumo C\\u00edclico/Constr Civil\", \"Mats B\\u00e1sicos/Sid Metalurgia\", \"Sa\\u00fade/Com\\u00e9rcio Distr.\", \"Bens Indls/Mat Transporte\", \"Comput e Equip/Comput e Equips\", \"Bens Industriais/Constr e Engenh\", \"Sa\\u00fade/SM Hosp An.Diag\", \"Mats B\\u00e1sicos/Embalagens\", \"Bens Indls/Mat Transporte\", \"Bens Indls/Mat Transporte\", \"Bens Indls/Mat Transporte\", \"Bens Indls/M\\u00e1qs e Equips\", \"Petr\\u00f3leo/G\\u00e1s e Biocombust\\u00edveis\", \"Utilidade P\\u00fabl/\\u00c1gua Saneamento\", \"Utilidade P\\u00fabl/\\u00c1gua Saneamento\", \"Consumo C\\u00edclico/Com\\u00e9rcio\", \"Diverso/Diversos\", \"Bens Indls/Servi\\u00e7os\", \"Consumo C\\u00edclico/Viagens e Lazer\", \"Bens Indls/M\\u00e1qs e Equips\", \"Financ e Outros/Holdings Divers\", \"Cons N Ciclico/Agropecu\\u00e1ria\", \"Cons N  B\\u00e1sico/Alimentos Processados\", \"Consumo C\\u00edclico/Com\\u00e9rcio\", \"Tec.Informa\\u00e7\\u00e3o/Programas Servs\", \"Bens Indls/Transporte\", \"Financ e Outros/Previd  Seguros\", \"Financ e Outros/Explor Im\\u00f3veis\", \"Utilidade P\\u00fabl/Energ El\\u00e9trica\", \"Bens Indls/M\\u00e1qs e Equips\", \"Consumo C\\u00edclico/Constr Civil\", \"Consumo C\\u00edclico/Tecid Vest Cal\\u00e7\", \"Consumo C\\u00edclico/Constr Civil\", \"Bens Indls/Transporte\", \"Bens Indls/Transporte\", \"Consumo C\\u00edclico/Constr Civil\", \"Bens Indls/Mat Transporte\", \"Mats B\\u00e1sicos/Qu\\u00edmicos\", \"Consumo C\\u00edclico/Tecid Vest Cal\\u00e7\", \"Bens Indls/Servi\\u00e7os\", \"Consumo C\\u00edclico/Tecid Vest Cal\\u00e7\", \"Tec.Informa\\u00e7\\u00e3o/Programas Servs\", \"Financ e Outros/Previd  Seguros\", \"Diverso/Diversos\", \"Cons N Ciclico\", \"Cons N  B\\u00e1sico\", \"Consumo C\\u00edclico\", \"Comput e Equip\", \"Consumo C\\u00edclico\", \"Cons N C\\u00edclico\", \"Sa\\u00fade\", \"Consumo C\\u00edclico\", \"Bens Industriais\", \"Diverso\", \"Mats B\\u00e1sicos\", \"Utilidade P\\u00fabl\", \"Financ e Outros\", \"Petr\\u00f3leo\", \"Financ e Outros\", \"Consumo C\\u00edclico\", \"Financ e Outros\", \"Bens Indls\", \"Bens Indls\", \"Financ e Outros\", \"Tec.Informa\\u00e7\\u00e3o\", \"Mats B\\u00e1sicos\", \"Sa\\u00fade\", \"Bens Indls\", \"Financeiro e Outros\", \"Mats B\\u00e1sicos\", \"Consumo C\\u00edclico\", \"Bens Indls\", \"Consumo C\\u00edclico\", \"Utilidade P\\u00fabl\", \"\", \"\", \"\", \"\", \"\", \"\", \"\", \"\", \"\", \"\", \"\", \"\", \"\", \"\", \"\"], \"textfont\": {\"color\": \"white\", \"size\": 14}, \"type\": \"sunburst\", \"values\": [0.166, 0.325, 1.171, 0.51, 0.853, 1.016, 0.18, 0.564, 0.788, 1.348, 3.459, 0.803, 0.597, 0.112, 0.397, 1.844, 2.111, 0.452, 0.728, 0.329, 0.105, 0.878, 0.232, 1.333, 0.865, 1.646, 0.785, 0.237, 1.321, 1.502, 0.186, 0.275, 0.971, 0.349, 1.298, 0.251, 0.593, 0.459, 0.718, 0.677, 1.94, 0.094, 2.631, 1.006, 0.731, 0.333, 0.122, 0.911, 0.838, 0.687, 1.889, 0.546, 0.292, 0.343, 0.341, 1.282, 0.167, 2.356, 0.445, 1.451, 0.841, 0.472, 0.685, 0.1, 2.794, 0.776, 0.261, 0.203, 0.241, 0.688, 2.763, 1.07, 0.134, 1.639, 0.761, 0.151, 1.123, 1.194, 0.155, 0.276, 1.223, 1.71, 0.556, 0.075, 0.136, 0.302, 0.474, 0.234, 0.232, 1.614, 0.23, 0.599, 0.039, 0.022, 0.209, 1.599, 1.171, 0.24, 0.799, 0.206, 0.391, 0.048, 0.244, 0.913, 1.32, 1.574, 2.07, 0.44, 1.9, 2.155, 0.19, 2.404, 0.418, 0.079, 0.073, 0.501, 0.165, 0.058, 0.183, 0.41, 1.041, 0.866, 0.196, 0.213, 0.142, 0.275, 2.358, 1.83, 6.245, 1.206, 0.921, 9.729, 1.223, 0.8580000000000001, 6.162, 0.232, 8.042, 0.23, 9.867, 6.947000000000001, 2.1029999999999998, 0.913, 0.858, 1.165, 1.5439999999999998, 1.417, 4.319, 5.2940000000000005, 1.2269999999999999, 5.119, 0.587, 2.814, 3.444, 1.883, 9.155, 1.369, 2.76, 12.703, 0.232, 0.921, 6.245, 1.83, 1.223, 21.207000000000004, 8.042, 13.344, 2.814, 4.901, 2.1029999999999998, 5.977, 5.2940000000000005, 12.626999999999999]}],                        {\"height\": 900, \"legend\": {\"tracegroupgap\": 0}, \"margin\": {\"t\": 60}, \"template\": {\"data\": {\"bar\": [{\"error_x\": {\"color\": \"#2a3f5f\"}, \"error_y\": {\"color\": \"#2a3f5f\"}, \"marker\": {\"line\": {\"color\": \"#E5ECF6\", \"width\": 0.5}}, \"type\": \"bar\"}], \"barpolar\": [{\"marker\": {\"line\": {\"color\": \"#E5ECF6\", \"width\": 0.5}}, \"type\": \"barpolar\"}], \"carpet\": [{\"aaxis\": {\"endlinecolor\": \"#2a3f5f\", \"gridcolor\": \"white\", \"linecolor\": \"white\", \"minorgridcolor\": \"white\", \"startlinecolor\": \"#2a3f5f\"}, \"baxis\": {\"endlinecolor\": \"#2a3f5f\", \"gridcolor\": \"white\", \"linecolor\": \"white\", \"minorgridcolor\": \"white\", \"startlinecolor\": \"#2a3f5f\"}, \"type\": \"carpet\"}], \"choropleth\": [{\"colorbar\": {\"outlinewidth\": 0, \"ticks\": \"\"}, \"type\": \"choropleth\"}], \"contour\": [{\"colorbar\": {\"outlinewidth\": 0, \"ticks\": \"\"}, \"colorscale\": [[0.0, \"#0d0887\"], [0.1111111111111111, \"#46039f\"], [0.2222222222222222, \"#7201a8\"], [0.3333333333333333, \"#9c179e\"], [0.4444444444444444, \"#bd3786\"], [0.5555555555555556, \"#d8576b\"], [0.6666666666666666, \"#ed7953\"], [0.7777777777777778, \"#fb9f3a\"], [0.8888888888888888, \"#fdca26\"], [1.0, \"#f0f921\"]], \"type\": \"contour\"}], \"contourcarpet\": [{\"colorbar\": {\"outlinewidth\": 0, \"ticks\": \"\"}, \"type\": \"contourcarpet\"}], \"heatmap\": [{\"colorbar\": {\"outlinewidth\": 0, \"ticks\": \"\"}, \"colorscale\": [[0.0, \"#0d0887\"], [0.1111111111111111, \"#46039f\"], [0.2222222222222222, \"#7201a8\"], [0.3333333333333333, \"#9c179e\"], [0.4444444444444444, \"#bd3786\"], [0.5555555555555556, \"#d8576b\"], [0.6666666666666666, \"#ed7953\"], [0.7777777777777778, \"#fb9f3a\"], [0.8888888888888888, \"#fdca26\"], [1.0, \"#f0f921\"]], \"type\": \"heatmap\"}], \"heatmapgl\": [{\"colorbar\": {\"outlinewidth\": 0, \"ticks\": \"\"}, \"colorscale\": [[0.0, \"#0d0887\"], [0.1111111111111111, \"#46039f\"], [0.2222222222222222, \"#7201a8\"], [0.3333333333333333, \"#9c179e\"], [0.4444444444444444, \"#bd3786\"], [0.5555555555555556, \"#d8576b\"], [0.6666666666666666, \"#ed7953\"], [0.7777777777777778, \"#fb9f3a\"], [0.8888888888888888, \"#fdca26\"], [1.0, \"#f0f921\"]], \"type\": \"heatmapgl\"}], \"histogram\": [{\"marker\": {\"colorbar\": {\"outlinewidth\": 0, \"ticks\": \"\"}}, \"type\": \"histogram\"}], \"histogram2d\": [{\"colorbar\": {\"outlinewidth\": 0, \"ticks\": \"\"}, \"colorscale\": [[0.0, \"#0d0887\"], [0.1111111111111111, \"#46039f\"], [0.2222222222222222, \"#7201a8\"], [0.3333333333333333, \"#9c179e\"], [0.4444444444444444, \"#bd3786\"], [0.5555555555555556, \"#d8576b\"], [0.6666666666666666, \"#ed7953\"], [0.7777777777777778, \"#fb9f3a\"], [0.8888888888888888, \"#fdca26\"], [1.0, \"#f0f921\"]], \"type\": \"histogram2d\"}], \"histogram2dcontour\": [{\"colorbar\": {\"outlinewidth\": 0, \"ticks\": \"\"}, \"colorscale\": [[0.0, \"#0d0887\"], [0.1111111111111111, \"#46039f\"], [0.2222222222222222, \"#7201a8\"], [0.3333333333333333, \"#9c179e\"], [0.4444444444444444, \"#bd3786\"], [0.5555555555555556, \"#d8576b\"], [0.6666666666666666, \"#ed7953\"], [0.7777777777777778, \"#fb9f3a\"], [0.8888888888888888, \"#fdca26\"], [1.0, \"#f0f921\"]], \"type\": \"histogram2dcontour\"}], \"mesh3d\": [{\"colorbar\": {\"outlinewidth\": 0, \"ticks\": \"\"}, \"type\": \"mesh3d\"}], \"parcoords\": [{\"line\": {\"colorbar\": {\"outlinewidth\": 0, \"ticks\": \"\"}}, \"type\": \"parcoords\"}], \"pie\": [{\"automargin\": true, \"type\": \"pie\"}], \"scatter\": [{\"marker\": {\"colorbar\": {\"outlinewidth\": 0, \"ticks\": \"\"}}, \"type\": \"scatter\"}], \"scatter3d\": [{\"line\": {\"colorbar\": {\"outlinewidth\": 0, \"ticks\": \"\"}}, \"marker\": {\"colorbar\": {\"outlinewidth\": 0, \"ticks\": \"\"}}, \"type\": \"scatter3d\"}], \"scattercarpet\": [{\"marker\": {\"colorbar\": {\"outlinewidth\": 0, \"ticks\": \"\"}}, \"type\": \"scattercarpet\"}], \"scattergeo\": [{\"marker\": {\"colorbar\": {\"outlinewidth\": 0, \"ticks\": \"\"}}, \"type\": \"scattergeo\"}], \"scattergl\": [{\"marker\": {\"colorbar\": {\"outlinewidth\": 0, \"ticks\": \"\"}}, \"type\": \"scattergl\"}], \"scattermapbox\": [{\"marker\": {\"colorbar\": {\"outlinewidth\": 0, \"ticks\": \"\"}}, \"type\": \"scattermapbox\"}], \"scatterpolar\": [{\"marker\": {\"colorbar\": {\"outlinewidth\": 0, \"ticks\": \"\"}}, \"type\": \"scatterpolar\"}], \"scatterpolargl\": [{\"marker\": {\"colorbar\": {\"outlinewidth\": 0, \"ticks\": \"\"}}, \"type\": \"scatterpolargl\"}], \"scatterternary\": [{\"marker\": {\"colorbar\": {\"outlinewidth\": 0, \"ticks\": \"\"}}, \"type\": \"scatterternary\"}], \"surface\": [{\"colorbar\": {\"outlinewidth\": 0, \"ticks\": \"\"}, \"colorscale\": [[0.0, \"#0d0887\"], [0.1111111111111111, \"#46039f\"], [0.2222222222222222, \"#7201a8\"], [0.3333333333333333, \"#9c179e\"], [0.4444444444444444, \"#bd3786\"], [0.5555555555555556, \"#d8576b\"], [0.6666666666666666, \"#ed7953\"], [0.7777777777777778, \"#fb9f3a\"], [0.8888888888888888, \"#fdca26\"], [1.0, \"#f0f921\"]], \"type\": \"surface\"}], \"table\": [{\"cells\": {\"fill\": {\"color\": \"#EBF0F8\"}, \"line\": {\"color\": \"white\"}}, \"header\": {\"fill\": {\"color\": \"#C8D4E3\"}, \"line\": {\"color\": \"white\"}}, \"type\": \"table\"}]}, \"layout\": {\"annotationdefaults\": {\"arrowcolor\": \"#2a3f5f\", \"arrowhead\": 0, \"arrowwidth\": 1}, \"autotypenumbers\": \"strict\", \"coloraxis\": {\"colorbar\": {\"outlinewidth\": 0, \"ticks\": \"\"}}, \"colorscale\": {\"diverging\": [[0, \"#8e0152\"], [0.1, \"#c51b7d\"], [0.2, \"#de77ae\"], [0.3, \"#f1b6da\"], [0.4, \"#fde0ef\"], [0.5, \"#f7f7f7\"], [0.6, \"#e6f5d0\"], [0.7, \"#b8e186\"], [0.8, \"#7fbc41\"], [0.9, \"#4d9221\"], [1, \"#276419\"]], \"sequential\": [[0.0, \"#0d0887\"], [0.1111111111111111, \"#46039f\"], [0.2222222222222222, \"#7201a8\"], [0.3333333333333333, \"#9c179e\"], [0.4444444444444444, \"#bd3786\"], [0.5555555555555556, \"#d8576b\"], [0.6666666666666666, \"#ed7953\"], [0.7777777777777778, \"#fb9f3a\"], [0.8888888888888888, \"#fdca26\"], [1.0, \"#f0f921\"]], \"sequentialminus\": [[0.0, \"#0d0887\"], [0.1111111111111111, \"#46039f\"], [0.2222222222222222, \"#7201a8\"], [0.3333333333333333, \"#9c179e\"], [0.4444444444444444, \"#bd3786\"], [0.5555555555555556, \"#d8576b\"], [0.6666666666666666, \"#ed7953\"], [0.7777777777777778, \"#fb9f3a\"], [0.8888888888888888, \"#fdca26\"], [1.0, \"#f0f921\"]]}, \"colorway\": [\"#636efa\", \"#EF553B\", \"#00cc96\", \"#ab63fa\", \"#FFA15A\", \"#19d3f3\", \"#FF6692\", \"#B6E880\", \"#FF97FF\", \"#FECB52\"], \"font\": {\"color\": \"#2a3f5f\"}, \"geo\": {\"bgcolor\": \"white\", \"lakecolor\": \"white\", \"landcolor\": \"#E5ECF6\", \"showlakes\": true, \"showland\": true, \"subunitcolor\": \"white\"}, \"hoverlabel\": {\"align\": \"left\"}, \"hovermode\": \"closest\", \"mapbox\": {\"style\": \"light\"}, \"paper_bgcolor\": \"white\", \"plot_bgcolor\": \"#E5ECF6\", \"polar\": {\"angularaxis\": {\"gridcolor\": \"white\", \"linecolor\": \"white\", \"ticks\": \"\"}, \"bgcolor\": \"#E5ECF6\", \"radialaxis\": {\"gridcolor\": \"white\", \"linecolor\": \"white\", \"ticks\": \"\"}}, \"scene\": {\"xaxis\": {\"backgroundcolor\": \"#E5ECF6\", \"gridcolor\": \"white\", \"gridwidth\": 2, \"linecolor\": \"white\", \"showbackground\": true, \"ticks\": \"\", \"zerolinecolor\": \"white\"}, \"yaxis\": {\"backgroundcolor\": \"#E5ECF6\", \"gridcolor\": \"white\", \"gridwidth\": 2, \"linecolor\": \"white\", \"showbackground\": true, \"ticks\": \"\", \"zerolinecolor\": \"white\"}, \"zaxis\": {\"backgroundcolor\": \"#E5ECF6\", \"gridcolor\": \"white\", \"gridwidth\": 2, \"linecolor\": \"white\", \"showbackground\": true, \"ticks\": \"\", \"zerolinecolor\": \"white\"}}, \"shapedefaults\": {\"line\": {\"color\": \"#2a3f5f\"}}, \"ternary\": {\"aaxis\": {\"gridcolor\": \"white\", \"linecolor\": \"white\", \"ticks\": \"\"}, \"baxis\": {\"gridcolor\": \"white\", \"linecolor\": \"white\", \"ticks\": \"\"}, \"bgcolor\": \"#E5ECF6\", \"caxis\": {\"gridcolor\": \"white\", \"linecolor\": \"white\", \"ticks\": \"\"}}, \"title\": {\"x\": 0.05}, \"xaxis\": {\"automargin\": true, \"gridcolor\": \"white\", \"linecolor\": \"white\", \"ticks\": \"\", \"title\": {\"standoff\": 15}, \"zerolinecolor\": \"white\", \"zerolinewidth\": 2}, \"yaxis\": {\"automargin\": true, \"gridcolor\": \"white\", \"linecolor\": \"white\", \"ticks\": \"\", \"title\": {\"standoff\": 15}, \"zerolinecolor\": \"white\", \"zerolinewidth\": 2}}}},                        {\"responsive\": true}                    ).then(function(){\n",
       "                            \n",
       "var gd = document.getElementById('aa84dd46-70a4-4ff6-a091-55620e8d62d4');\n",
       "var x = new MutationObserver(function (mutations, observer) {{\n",
       "        var display = window.getComputedStyle(gd).display;\n",
       "        if (!display || display === 'none') {{\n",
       "            console.log([gd, 'removed!']);\n",
       "            Plotly.purge(gd);\n",
       "            observer.disconnect();\n",
       "        }}\n",
       "}});\n",
       "\n",
       "// Listen for the removal of the full notebook cells\n",
       "var notebookContainer = gd.closest('#notebook-container');\n",
       "if (notebookContainer) {{\n",
       "    x.observe(notebookContainer, {childList: true});\n",
       "}}\n",
       "\n",
       "// Listen for the clearing of the current output cell\n",
       "var outputEl = gd.closest('.output');\n",
       "if (outputEl) {{\n",
       "    x.observe(outputEl, {childList: true});\n",
       "}}\n",
       "\n",
       "                        })                };                });            </script>        </div>"
      ]
     },
     "metadata": {},
     "output_type": "display_data"
    }
   ],
   "source": [
    "fig = px.sunburst(data_frame=df, path=['Setor', 'Sub-Setor', 'Código'], values='Part. (%)', height=900)\n",
    "fig.update_traces(textfont_color='white', textfont_size=14, hovertemplate='<b>%{label}: </b> %{value:.2f}%')\n",
    "fig.show()"
   ]
  },
  {
   "cell_type": "code",
   "execution_count": null,
   "id": "d1c6628d",
   "metadata": {},
   "outputs": [],
   "source": [
    "fig = px.treemap(data_frame=df, path=['Setor', 'Sub-Setor', 'Código'], values='Part. (%)', height=900)\n",
    "fig.update_traces(textfont_color='white', textfont_size=14, hovertemplate='<b>%{label}: </b> %{value:.2f}%')\n",
    "fig.show()"
   ]
  },
  {
   "cell_type": "code",
   "execution_count": null,
   "id": "49cf24e8",
   "metadata": {},
   "outputs": [],
   "source": [
    "!"
   ]
  }
 ],
 "metadata": {
  "kernelspec": {
   "display_name": "Python 3",
   "language": "python",
   "name": "python3"
  },
  "language_info": {
   "codemirror_mode": {
    "name": "ipython",
    "version": 3
   },
   "file_extension": ".py",
   "mimetype": "text/x-python",
   "name": "python",
   "nbconvert_exporter": "python",
   "pygments_lexer": "ipython3",
   "version": "3.9.7"
  }
 },
 "nbformat": 4,
 "nbformat_minor": 5
}
